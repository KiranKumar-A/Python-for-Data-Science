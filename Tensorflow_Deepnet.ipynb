{
  "nbformat": 4,
  "nbformat_minor": 0,
  "metadata": {
    "colab": {
      "name": "Tensorflow_Deepnet.ipynb",
      "version": "0.3.2",
      "provenance": [],
      "collapsed_sections": [],
      "include_colab_link": true
    },
    "kernelspec": {
      "name": "python3",
      "display_name": "Python 3"
    }
  },
  "cells": [
    {
      "cell_type": "markdown",
      "metadata": {
        "id": "view-in-github",
        "colab_type": "text"
      },
      "source": [
        "[View in Colaboratory](https://colab.research.google.com/github/KiranKumar-A/Python-for-Data-Science/blob/master/Tensorflow_Deepnet.ipynb)"
      ]
    },
    {
      "metadata": {
        "id": "qS1T32nydx9y",
        "colab_type": "code",
        "colab": {
          "base_uri": "https://localhost:8080/",
          "height": 85
        },
        "outputId": "61c26786-3e58-4cef-ba75-70e12b987719"
      },
      "cell_type": "code",
      "source": [
        "# Intro to Deep Learning\n",
        "'''\n",
        "input > weight > hidden layer 1 (activation function) > weights > hidden layer 2\n",
        "(activation function) > weights > output layer\n",
        "Feed Forward network.\n",
        "\n",
        "compare output to intended output > cost function (cross entropy)\n",
        "\n",
        "optimization function (optimizer) > minimize cost(AdamOptimizer... SGD, AdaGrad)\n",
        "\n",
        "backpropagation\n",
        "\n",
        "feed forward + backprop = epoch\n",
        "\n",
        "'''\n",
        "\n",
        "import tensorflow as tf\n",
        "from tensorflow.examples.tutorials.mnist import input_data\n",
        "mnist = input_data.read_data_sets(\"MNIST_data/\", one_hot = True)\n",
        "#mnist = tf.keras.datasets.mnist\n",
        "\n",
        "#mnist = mnist.load_data \n",
        "# 10 classes , 0-9\n",
        "'''\n",
        "0 = [1,0,0,0,0,0,0,0,0,0]\n",
        "1 = [0,1,0,0,0,0,0,0,0,0]\n",
        "2 = [0,0,2,0,0,0,0,0,0,0]\n",
        "3 = [1,0,0,3,0,0,0,0,0,0]\n",
        "'''\n",
        "\n",
        "n_nodes_hl1 = 500\n",
        "n_nodes_hl2 = 500\n",
        "n_nodes_hl3 = 500\n",
        "\n",
        "n_classes = 10\n",
        "\n",
        "batch_size = 100\n",
        "\n",
        "#height x width\n",
        "x = tf.placeholder('float', [None, 784])\n",
        "y = tf.placeholder('float')\n",
        "\n",
        "\n",
        "def neural_network_model(data):\n",
        "    #(input_data * weights) + biases\n",
        "    hidden_1_layer = {'weights':tf.Variable(tf.random_normal([784, n_nodes_hl1])),\n",
        "                      'biases':tf.Variable(tf.random_normal([n_nodes_hl1]))}\n",
        "\n",
        "    hidden_2_layer = {'weights':tf.Variable(tf.random_normal([n_nodes_hl1, n_nodes_hl2])),\n",
        "                      'biases':tf.Variable(tf.random_normal([n_nodes_hl2]))}\n",
        "\n",
        "    hidden_3_layer = {'weights':tf.Variable(tf.random_normal([n_nodes_hl2, n_nodes_hl3])),\n",
        "                      'biases':tf.Variable(tf.random_normal([n_nodes_hl3]))}\n",
        "\n",
        "    output_layer = {'weights':tf.Variable(tf.random_normal([n_nodes_hl3, n_classes])),\n",
        "                      'biases':tf.Variable(tf.random_normal([n_classes]))}\n",
        "\n",
        "#(input_data * weights) + biases\n",
        "    l1 = tf.add(tf.matmul(data, hidden_1_layer['weights']) , hidden_1_layer['biases'])\n",
        "    l1 = tf.nn.relu(l1)\n",
        "\n",
        "    l2 = tf.add(tf.matmul(l1, hidden_2_layer['weights']) , hidden_2_layer['biases'])\n",
        "    l2 = tf.nn.relu(l2)\n",
        "    \n",
        "    l3 = tf.add(tf.matmul(l2, hidden_3_layer['weights']) , hidden_3_layer['biases'])\n",
        "    l3 = tf.nn.relu(l3)\n",
        "\n",
        "    output = tf.matmul(l3, output_layer['weights']) + output_layer['biases']\n",
        "\n",
        "    return output\n",
        "\n",
        "                    "
      ],
      "execution_count": 19,
      "outputs": [
        {
          "output_type": "stream",
          "text": [
            "Extracting MNIST_data/train-images-idx3-ubyte.gz\n",
            "Extracting MNIST_data/train-labels-idx1-ubyte.gz\n",
            "Extracting MNIST_data/t10k-images-idx3-ubyte.gz\n",
            "Extracting MNIST_data/t10k-labels-idx1-ubyte.gz\n"
          ],
          "name": "stdout"
        }
      ]
    },
    {
      "metadata": {
        "id": "YnVZsqR_d_Xc",
        "colab_type": "code",
        "colab": {
          "base_uri": "https://localhost:8080/",
          "height": 204
        },
        "outputId": "47935624-1d18-4e81-e4f4-8d9eeba6c2d8"
      },
      "cell_type": "code",
      "source": [
        "def train_neural_network(X):\n",
        "  prediction = neural_network_model(X)\n",
        "  cost = tf.reduce_mean(tf.nn.softmax_cross_entropy_with_logits(logits = prediction, labels = y) )  \n",
        "  optimizer = tf.train.AdamOptimizer().minimize(cost)\n",
        "  #cycles feed forward + backprop\n",
        "  \n",
        "  hm_epochs = 10\n",
        "  \n",
        "  with tf.Session() as sess:\n",
        "    sess.run(tf.global_variables_initializer())\n",
        "    \n",
        "    for epoch in range(hm_epochs):\n",
        "      epoch_loss =0\n",
        "      for _ in range(int(mnist.train.num_examples/batch_size)):\n",
        "        epoch_x,epoch_y = mnist.train.next_batch(batch_size)\n",
        "        _, c = sess.run([optimizer, cost], feed_dict = {x:epoch_x, y:epoch_y})\n",
        "        epoch_loss += c\n",
        "      \n",
        "      print('Epoch', epoch, 'completed out of', hm_epochs, 'loss:', epoch_loss)\n",
        "      \n",
        "    correct = tf.equal(tf.argmax(prediction, 1), tf.argmax(y,1))\n",
        "    \n",
        "    accuracy = tf.reduce_mean(tf.cast(correct, 'float'))\n",
        "    print('Accuracy:', accuracy.eval({x : mnist.test.images, y:mnist.test.labels}))           \n",
        "\n",
        "train_neural_network(x)\n",
        "    "
      ],
      "execution_count": 29,
      "outputs": [
        {
          "output_type": "stream",
          "text": [
            "Epoch 0 completed out of 10 loss: 2113271.7700805664\n",
            "Epoch 1 completed out of 10 loss: 430625.34691619873\n",
            "Epoch 2 completed out of 10 loss: 234046.90806287527\n",
            "Epoch 3 completed out of 10 loss: 142292.0844660284\n",
            "Epoch 4 completed out of 10 loss: 89227.30376546085\n",
            "Epoch 5 completed out of 10 loss: 51485.633889347315\n",
            "Epoch 6 completed out of 10 loss: 37056.78201332943\n",
            "Epoch 7 completed out of 10 loss: 26772.806217028177\n",
            "Epoch 8 completed out of 10 loss: 21378.969973251224\n",
            "Epoch 9 completed out of 10 loss: 19235.854491352045\n",
            "Accuracy: 0.9454\n"
          ],
          "name": "stdout"
        }
      ]
    }
  ]
}