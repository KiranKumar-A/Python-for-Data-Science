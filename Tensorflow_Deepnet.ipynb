{
  "nbformat": 4,
  "nbformat_minor": 0,
  "metadata": {
    "colab": {
      "name": "Tensorflow_Deepnet.ipynb",
      "version": "0.3.2",
      "provenance": [],
      "include_colab_link": true
    },
    "kernelspec": {
      "name": "python3",
      "display_name": "Python 3"
    }
  },
  "cells": [
    {
      "cell_type": "markdown",
      "metadata": {
        "id": "view-in-github",
        "colab_type": "text"
      },
      "source": [
        "[View in Colaboratory](https://colab.research.google.com/github/KiranKumar-A/Python-for-Data-Science/blob/master/Tensorflow_Deepnet.ipynb)"
      ]
    },
    {
      "metadata": {
        "id": "qS1T32nydx9y",
        "colab_type": "code",
        "colab": {
          "base_uri": "https://localhost:8080/",
          "height": 153
        },
        "outputId": "192ff9b4-fa1e-4fad-ef51-dbd487456b75"
      },
      "cell_type": "code",
      "source": [
        "# Intro to Deep Learning\n",
        "'''\n",
        "input > weight > hidden layer 1 (activation function) > weights > hidden layer 2\n",
        "(activation function) > weights > output layer\n",
        "Feed Forward network.\n",
        "\n",
        "compare output to intended output > cost function (cross entropy)\n",
        "\n",
        "optimization function (optimizer) > minimize cost(AdamOptimizer... SGD, AdaGrad)\n",
        "\n",
        "backpropagation\n",
        "\n",
        "feed forward + backprop = epoch\n",
        "\n",
        "'''\n",
        "\n",
        "import tensorflow as tf\n",
        "from tensorflow.examples.tutorials.mnist import input_data\n",
        "mnist = input_data.read_data_sets(\"MNIST_data/\", one_hot = True)\n",
        "#mnist = tf.keras.datasets.mnist\n",
        "\n",
        "#mnist = mnist.load_data \n",
        "# 10 classes , 0-9\n",
        "'''\n",
        "0 = [1,0,0,0,0,0,0,0,0,0]\n",
        "1 = [0,1,0,0,0,0,0,0,0,0]\n",
        "2 = [0,0,2,0,0,0,0,0,0,0]\n",
        "3 = [1,0,0,3,0,0,0,0,0,0]\n",
        "'''\n",
        "\n",
        "n_nodes_hl1 = 500\n",
        "n_nodes_hl2 = 500\n",
        "n_nodes_hl3 = 500\n",
        "\n",
        "n_classes = 10\n",
        "\n",
        "batch_size = 100\n",
        "\n",
        "#height x width\n",
        "x = tf.placeholder('float', [None, 784])\n",
        "y = tf.placeholder('float')\n",
        "\n",
        "\n",
        "def neural_network_model(data):\n",
        "    #(input_data * weights) + biases\n",
        "    hidden_1_layer = {'weights':tf.Variable(tf.random_normal([784, n_nodes_hl1])),\n",
        "                      'biases':tf.Variable(tf.random_normal(n_nodes_hl1))}\n",
        "\n",
        "    hidden_2_layer = {'weights':tf.Variable(tf.random_normal([n_nodes_hl1, n_nodes_hl2])),\n",
        "                      'biases':tf.Variable(tf.random_normal(n_nodes_hl2))}\n",
        "\n",
        "    hidden_3_layer = {'weights':tf.Variable(tf.random_normal([n_nodes_hl2, n_nodes_hl3])),\n",
        "                      'biases':tf.Variable(tf.random_normal(n_nodes_hl3))}\n",
        "\n",
        "    output_layer = {'weights':tf.Variable(tf.random_normal([n_nodes_hl3, n_classes])),\n",
        "                      'biases':tf.Variable(tf.random_normal([n_classes]))}\n",
        "\n",
        "#(input_data * weights) + biases\n",
        "    l1 = tf.add(tf.matmul(data, hidden_1_layer['weights']) + hidden_1_layer['biases'])\n",
        "    l1 = tf.nn.relu(l1)\n",
        "\n",
        "    l2 = tf.add(tf.matmul(l1, hidden_2_layer['weights']) + hidden_2_layer['biases'])\n",
        "    l2 = tf.nn.relu(l2)\n",
        "    \n",
        "    l3 = tf.add(tf.matmul(l2, hidden_3_layer['weights']) + hidden_3_layer['biases'])\n",
        "    l3 = tf.nn.relu(l3)\n",
        "\n",
        "    output = tf.matmul(l3, output_layer['weights']) + utput_layer['biases']\n",
        "\n",
        "    return output\n",
        "\n",
        "                    "
      ],
      "execution_count": 2,
      "outputs": [
        {
          "output_type": "stream",
          "text": [
            "Successfully downloaded train-images-idx3-ubyte.gz 9912422 bytes.\n",
            "Extracting MNIST_data/train-images-idx3-ubyte.gz\n",
            "Successfully downloaded train-labels-idx1-ubyte.gz 28881 bytes.\n",
            "Extracting MNIST_data/train-labels-idx1-ubyte.gz\n",
            "Successfully downloaded t10k-images-idx3-ubyte.gz 1648877 bytes.\n",
            "Extracting MNIST_data/t10k-images-idx3-ubyte.gz\n",
            "Successfully downloaded t10k-labels-idx1-ubyte.gz 4542 bytes.\n",
            "Extracting MNIST_data/t10k-labels-idx1-ubyte.gz\n"
          ],
          "name": "stdout"
        }
      ]
    },
    {
      "metadata": {
        "id": "YnVZsqR_d_Xc",
        "colab_type": "code",
        "colab": {}
      },
      "cell_type": "code",
      "source": [
        ""
      ],
      "execution_count": 0,
      "outputs": []
    }
  ]
}